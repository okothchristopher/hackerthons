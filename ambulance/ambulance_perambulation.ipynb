{
 "cells": [
  {
   "cell_type": "code",
   "execution_count": 6,
   "metadata": {},
   "outputs": [],
   "source": [
    "import os \n",
    "os.chdir(r\"C:\\Users\\christopher\\Desktop\\ambulance_perambulation\")\n",
    "import matplotlib.pyplot as plt \n",
    "from sklearn.cluster import KMeans\n",
    "import pandas as pd\n",
    "# import geopandas as gpd # For loading the map of road segments"
   ]
  },
  {
   "cell_type": "code",
   "execution_count": 7,
   "metadata": {},
   "outputs": [
    {
     "name": "stdout",
     "output_type": "stream",
     "text": [
      "(6318, 4)\n"
     ]
    },
    {
     "data": {
      "text/html": [
       "<div>\n",
       "<style scoped>\n",
       "    .dataframe tbody tr th:only-of-type {\n",
       "        vertical-align: middle;\n",
       "    }\n",
       "\n",
       "    .dataframe tbody tr th {\n",
       "        vertical-align: top;\n",
       "    }\n",
       "\n",
       "    .dataframe thead th {\n",
       "        text-align: right;\n",
       "    }\n",
       "</style>\n",
       "<table border=\"1\" class=\"dataframe\">\n",
       "  <thead>\n",
       "    <tr style=\"text-align: right;\">\n",
       "      <th></th>\n",
       "      <th>uid</th>\n",
       "      <th>datetime</th>\n",
       "      <th>latitude</th>\n",
       "      <th>longitude</th>\n",
       "    </tr>\n",
       "  </thead>\n",
       "  <tbody>\n",
       "    <tr>\n",
       "      <th>0</th>\n",
       "      <td>1</td>\n",
       "      <td>2018-01-01 00:25:46</td>\n",
       "      <td>-1.188850</td>\n",
       "      <td>36.931382</td>\n",
       "    </tr>\n",
       "    <tr>\n",
       "      <th>1</th>\n",
       "      <td>2</td>\n",
       "      <td>2018-01-01 02:02:39</td>\n",
       "      <td>-0.662939</td>\n",
       "      <td>37.208730</td>\n",
       "    </tr>\n",
       "    <tr>\n",
       "      <th>2</th>\n",
       "      <td>3</td>\n",
       "      <td>2018-01-01 02:31:49</td>\n",
       "      <td>-0.662939</td>\n",
       "      <td>37.208730</td>\n",
       "    </tr>\n",
       "    <tr>\n",
       "      <th>3</th>\n",
       "      <td>4</td>\n",
       "      <td>2018-01-01 03:04:01</td>\n",
       "      <td>-1.288087</td>\n",
       "      <td>36.826583</td>\n",
       "    </tr>\n",
       "    <tr>\n",
       "      <th>4</th>\n",
       "      <td>5</td>\n",
       "      <td>2018-01-01 03:58:49</td>\n",
       "      <td>-1.188850</td>\n",
       "      <td>36.931382</td>\n",
       "    </tr>\n",
       "  </tbody>\n",
       "</table>\n",
       "</div>"
      ],
      "text/plain": [
       "   uid            datetime  latitude  longitude\n",
       "0    1 2018-01-01 00:25:46 -1.188850  36.931382\n",
       "1    2 2018-01-01 02:02:39 -0.662939  37.208730\n",
       "2    3 2018-01-01 02:31:49 -0.662939  37.208730\n",
       "3    4 2018-01-01 03:04:01 -1.288087  36.826583\n",
       "4    5 2018-01-01 03:58:49 -1.188850  36.931382"
      ]
     },
     "execution_count": 7,
     "metadata": {},
     "output_type": "execute_result"
    }
   ],
   "source": [
    "# Load the data\n",
    "df = pd.read_csv('Train.csv', parse_dates=['datetime'])\n",
    "print(df.shape)\n",
    "df.head()"
   ]
  },
  {
   "cell_type": "markdown",
   "metadata": {},
   "source": [
    "# Minimum Distance Travelled by Ambulance in a Day\n",
    "\n",
    "Find the optimal position to place 6 ambulances within a day (3 hour interval) in which they will travel the least amount of distance. \n",
    "\n",
    "Notes\n",
    "- Each ambulance is committed every three hours\n",
    "- Ambulances travel within allocated \"sectors\""
   ]
  },
  {
   "cell_type": "code",
   "execution_count": 9,
   "metadata": {},
   "outputs": [
    {
     "data": {
      "text/plain": [
       "<AxesSubplot:title={'center':'Crash Locations'}, xlabel='longitude', ylabel='latitude'>"
      ]
     },
     "execution_count": 9,
     "metadata": {},
     "output_type": "execute_result"
    },
    {
     "data": {
      "image/png": "[encoded data removed]",
      "text/plain": [
       "<Figure size 360x360 with 1 Axes>"
      ]
     },
     "metadata": {
      "needs_background": "light"
     },
     "output_type": "display_data"
    }
   ],
   "source": [
    "# Plot the crashes\n",
    "df.plot(x='longitude', y='latitude', kind='scatter', figsize=(5,5), alpha=0.3, title='Crash Locations')"
   ]
  },
  {
   "cell_type": "markdown",
   "metadata": {},
   "source": [
    "Rather than trying to predict accident locations or the number of accidents in a given timeframe, we are instead asked to come up with an ambulance deployment schedule that will minimise distance travelled. \n",
    "\n",
    "So my first idea , would be to cluster the crash points then find the cluster centroids \n",
    "Then place the ambulances in those centres, and see what is the metric of the same \n"
   ]
  },
  {
   "cell_type": "code",
   "execution_count": 11,
   "metadata": {},
   "outputs": [
    {
     "data": {
      "text/html": [
       "<div>\n",
       "<style scoped>\n",
       "    .dataframe tbody tr th:only-of-type {\n",
       "        vertical-align: middle;\n",
       "    }\n",
       "\n",
       "    .dataframe tbody tr th {\n",
       "        vertical-align: top;\n",
       "    }\n",
       "\n",
       "    .dataframe thead th {\n",
       "        text-align: right;\n",
       "    }\n",
       "</style>\n",
       "<table border=\"1\" class=\"dataframe\">\n",
       "  <thead>\n",
       "    <tr style=\"text-align: right;\">\n",
       "      <th></th>\n",
       "      <th>date</th>\n",
       "      <th>A0_Latitude</th>\n",
       "      <th>A0_Longitude</th>\n",
       "      <th>A1_Latitude</th>\n",
       "      <th>A1_Longitude</th>\n",
       "      <th>A2_Latitude</th>\n",
       "      <th>A2_Longitude</th>\n",
       "      <th>A3_Latitude</th>\n",
       "      <th>A3_Longitude</th>\n",
       "      <th>A4_Latitude</th>\n",
       "      <th>A4_Longitude</th>\n",
       "      <th>A5_Latitude</th>\n",
       "      <th>A5_Longitude</th>\n",
       "    </tr>\n",
       "  </thead>\n",
       "  <tbody>\n",
       "    <tr>\n",
       "      <th>0</th>\n",
       "      <td>2019-07-01 00:00:00</td>\n",
       "      <td>0</td>\n",
       "      <td>0</td>\n",
       "      <td>0</td>\n",
       "      <td>0</td>\n",
       "      <td>0</td>\n",
       "      <td>0</td>\n",
       "      <td>0</td>\n",
       "      <td>0</td>\n",
       "      <td>0</td>\n",
       "      <td>0</td>\n",
       "      <td>0</td>\n",
       "      <td>0</td>\n",
       "    </tr>\n",
       "    <tr>\n",
       "      <th>1</th>\n",
       "      <td>2019-07-01 03:00:00</td>\n",
       "      <td>0</td>\n",
       "      <td>0</td>\n",
       "      <td>0</td>\n",
       "      <td>0</td>\n",
       "      <td>0</td>\n",
       "      <td>0</td>\n",
       "      <td>0</td>\n",
       "      <td>0</td>\n",
       "      <td>0</td>\n",
       "      <td>0</td>\n",
       "      <td>0</td>\n",
       "      <td>0</td>\n",
       "    </tr>\n",
       "    <tr>\n",
       "      <th>2</th>\n",
       "      <td>2019-07-01 06:00:00</td>\n",
       "      <td>0</td>\n",
       "      <td>0</td>\n",
       "      <td>0</td>\n",
       "      <td>0</td>\n",
       "      <td>0</td>\n",
       "      <td>0</td>\n",
       "      <td>0</td>\n",
       "      <td>0</td>\n",
       "      <td>0</td>\n",
       "      <td>0</td>\n",
       "      <td>0</td>\n",
       "      <td>0</td>\n",
       "    </tr>\n",
       "  </tbody>\n",
       "</table>\n",
       "</div>"
      ],
      "text/plain": [
       "                 date  A0_Latitude  A0_Longitude  A1_Latitude  A1_Longitude  \\\n",
       "0 2019-07-01 00:00:00            0             0            0             0   \n",
       "1 2019-07-01 03:00:00            0             0            0             0   \n",
       "2 2019-07-01 06:00:00            0             0            0             0   \n",
       "\n",
       "   A2_Latitude  A2_Longitude  A3_Latitude  A3_Longitude  A4_Latitude  \\\n",
       "0            0             0            0             0            0   \n",
       "1            0             0            0             0            0   \n",
       "2            0             0            0             0            0   \n",
       "\n",
       "   A4_Longitude  A5_Latitude  A5_Longitude  \n",
       "0             0            0             0  \n",
       "1             0            0             0  \n",
       "2             0            0             0  "
      ]
     },
     "execution_count": 11,
     "metadata": {},
     "output_type": "execute_result"
    }
   ],
   "source": [
    "# View the submission format\n",
    "ss = pd.read_csv('SampleSubmission (2).csv', parse_dates=['date'])\n",
    "ss.head(3)"
   ]
  },
  {
   "cell_type": "code",
   "execution_count": 12,
   "metadata": {},
   "outputs": [],
   "source": [
    "def score_ambulance(sub, ref):\n",
    "    total_distance = 0\n",
    "    for date, c_lat, c_lon in ref[['datetime', 'latitude', 'longitude']].values:\n",
    "        row = sub.loc[sub.date < date].tail(1)\n",
    "        dists = []\n",
    "        for a in range(6):\n",
    "            dist = ((c_lat - row[f'A{a}_Latitude'].values[0])**2+(c_lon - row[f'A{a}_Longitude'].values[0])**2)**0.5 \n",
    "            dists.append(dist)\n",
    "        total_distance += min(dists)\n",
    "    return total_distance"
   ]
  },
  {
   "cell_type": "code",
   "execution_count": 13,
   "metadata": {},
   "outputs": [
    {
     "data": {
      "text/plain": [
       "DatetimeIndex(['2019-01-01 00:00:00', '2019-01-01 03:00:00',\n",
       "               '2019-01-01 06:00:00', '2019-01-01 09:00:00',\n",
       "               '2019-01-01 12:00:00', '2019-01-01 15:00:00',\n",
       "               '2019-01-01 18:00:00', '2019-01-01 21:00:00',\n",
       "               '2019-01-02 00:00:00', '2019-01-02 03:00:00',\n",
       "               ...\n",
       "               '2019-12-30 21:00:00', '2019-12-31 00:00:00',\n",
       "               '2019-12-31 03:00:00', '2019-12-31 06:00:00',\n",
       "               '2019-12-31 09:00:00', '2019-12-31 12:00:00',\n",
       "               '2019-12-31 15:00:00', '2019-12-31 18:00:00',\n",
       "               '2019-12-31 21:00:00', '2020-01-01 00:00:00'],\n",
       "              dtype='datetime64[ns]', length=2921, freq='3H')"
      ]
     },
     "execution_count": 13,
     "metadata": {},
     "output_type": "execute_result"
    }
   ],
   "source": [
    "# Example:\n",
    "\n",
    "# Test set\n",
    "reference = df.loc[df.datetime > '2019-01-01'] # Using 2019 as our test set\n",
    "\n",
    "# Date rane covering test set\n",
    "dates = pd.date_range('2019-01-01', '2020-01-01', freq='3h')\n",
    "dates"
   ]
  },
  {
   "cell_type": "markdown",
   "metadata": {},
   "source": [
    "### Clustering"
   ]
  },
  {
   "cell_type": "code",
   "execution_count": 14,
   "metadata": {},
   "outputs": [],
   "source": [
    "# clustering\n",
    "\n",
    "K_clusters = range(1,10)\n",
    "\n",
    "kmeans = [KMeans(n_clusters=i) for i in K_clusters]\n",
    "\n",
    "Y_axis = df[['latitude']]\n",
    "X_axis = df[['longitude']]\n",
    "\n",
    "score = [kmeans[i].fit(Y_axis).score(Y_axis) for i in range(len(kmeans))]"
   ]
  },
  {
   "cell_type": "code",
   "execution_count": 35,
   "metadata": {},
   "outputs": [
    {
     "data": {
      "text/html": [
       "<div>\n",
       "<style scoped>\n",
       "    .dataframe tbody tr th:only-of-type {\n",
       "        vertical-align: middle;\n",
       "    }\n",
       "\n",
       "    .dataframe tbody tr th {\n",
       "        vertical-align: top;\n",
       "    }\n",
       "\n",
       "    .dataframe thead th {\n",
       "        text-align: right;\n",
       "    }\n",
       "</style>\n",
       "<table border=\"1\" class=\"dataframe\">\n",
       "  <thead>\n",
       "    <tr style=\"text-align: right;\">\n",
       "      <th></th>\n",
       "      <th>datetime</th>\n",
       "      <th>idx</th>\n",
       "    </tr>\n",
       "  </thead>\n",
       "  <tbody>\n",
       "    <tr>\n",
       "      <th>0</th>\n",
       "      <td>0</td>\n",
       "      <td>296</td>\n",
       "    </tr>\n",
       "    <tr>\n",
       "      <th>1</th>\n",
       "      <td>3</td>\n",
       "      <td>340</td>\n",
       "    </tr>\n",
       "    <tr>\n",
       "      <th>2</th>\n",
       "      <td>6</td>\n",
       "      <td>1724</td>\n",
       "    </tr>\n",
       "    <tr>\n",
       "      <th>3</th>\n",
       "      <td>9</td>\n",
       "      <td>976</td>\n",
       "    </tr>\n",
       "    <tr>\n",
       "      <th>4</th>\n",
       "      <td>12</td>\n",
       "      <td>834</td>\n",
       "    </tr>\n",
       "  </tbody>\n",
       "</table>\n",
       "</div>"
      ],
      "text/plain": [
       "   datetime   idx\n",
       "0         0   296\n",
       "1         3   340\n",
       "2         6  1724\n",
       "3         9   976\n",
       "4        12   834"
      ]
     },
     "execution_count": 35,
     "metadata": {},
     "output_type": "execute_result"
    }
   ],
   "source": [
    "df['idx'] = 1\n",
    "df_3hours = df.resample('3H', on='datetime')['idx'].count().reset_index()\n",
    "df_3hours['datetime'] = df_3hours['datetime'].dt.hour\n",
    "\n",
    "df_3hours = df_3hours.groupby('datetime').sum().reset_index()\n",
    "df_pd_3hours = pd.DataFrame(df_3hours)\n",
    "df_pd_3hours.head()"
   ]
  },
  {
   "cell_type": "code",
   "execution_count": 39,
   "metadata": {},
   "outputs": [
    {
     "data": {
      "text/plain": [
       "<AxesSubplot:xlabel='datetime', ylabel='idx'>"
      ]
     },
     "execution_count": 39,
     "metadata": {},
     "output_type": "execute_result"
    },
    {
     "data": {
      "image/png": "[encoded data removed]",
      "text/plain": [
       "<Figure size 432x288 with 1 Axes>"
      ]
     },
     "metadata": {
      "needs_background": "light"
     },
     "output_type": "display_data"
    }
   ],
   "source": [
    "x_3hours = df_pd_3hours['datetime']\n",
    "y_3hours = df_pd_3hours['idx']\n",
    "import seaborn as sns \n",
    "sns.lineplot(x_3hours,y_3hours,data=df_pd_3hours)"
   ]
  },
  {
   "cell_type": "code",
   "execution_count": 45,
   "metadata": {},
   "outputs": [],
   "source": [
    "# Variable with the Longitude and Latitude\n",
    "X=df.loc[:,['datetime','latitude','longitude']]\n",
    "\n",
    "Clusters=[]\n",
    "for three_hour_interval in x_3hours.to_list():\n",
    "    kmeans = KMeans(n_clusters = 6, init ='k-means++')\n",
    "    kmeans.fit(X[X.columns[1:3]]) # Compute k-means clustering.\n",
    "    X['cluster_label'] = kmeans.fit_predict(X[X.columns[1:3]])\n",
    "    centers = kmeans.cluster_centers_ # Coordinates of cluster centers.\n",
    "    Clusters.append(centers)\n",
    "    labels = kmeans.predict(X[X.columns[1:3]]) # Labels of each point\n"
   ]
  },
  {
   "cell_type": "code",
   "execution_count": 254,
   "metadata": {},
   "outputs": [
    {
     "data": {
      "text/plain": [
       "[array([[-1.21210609, 36.90659738],\n",
       "        [-1.23341291, 36.72111074],\n",
       "        [-2.26993277, 37.38589229],\n",
       "        [-1.30148658, 36.83909135],\n",
       "        [-1.44781943, 37.04055723],\n",
       "        [-1.02141628, 37.06162761]]), array([[-1.23507963, 36.72530534],\n",
       "        [-1.4837607 , 37.06873142],\n",
       "        [-0.9852835 , 37.08153029],\n",
       "        [-2.29821377, 37.46598632],\n",
       "        [-1.20513955, 36.91417129],\n",
       "        [-1.30373176, 36.84260687]])]"
      ]
     },
     "execution_count": 254,
     "metadata": {},
     "output_type": "execute_result"
    }
   ],
   "source": [
    "Clusters[1:3]"
   ]
  },
  {
   "cell_type": "code",
   "execution_count": 17,
   "metadata": {},
   "outputs": [
    {
     "data": {
      "image/png": "[encoded data removed]",
      "text/plain": [
       "<Figure size 1440x1296 with 4 Axes>"
      ]
     },
     "metadata": {
      "needs_background": "light"
     },
     "output_type": "display_data"
    }
   ],
   "source": [
    "\n",
    "fig, axs = plt.subplots(2, 2,figsize=(20, 18))\n",
    "axs[0, 0].plot(K_clusters, score)\n",
    "axs[0, 0].set_title('Elbow Curve')\n",
    "axs[0, 0].set_ylabel('Score')\n",
    "axs[0, 0].set_xlabel('Number of Clusters')\n",
    "\n",
    "axs[1,0].scatter(centers[:, 0], centers[:, 1], c='red', s=200, alpha=0.5,cmap='viridis')\n",
    "axs[1, 0].set_title('Cluster Centres of Accidents')\n",
    "axs[1, 0].set_ylabel('Longitude')\n",
    "axs[1, 0].set_xlabel('Latitude')\n",
    "\n",
    "axs[0,1].scatter(x = X['latitude'], y = X['longitude'], c=labels, s=50, cmap='viridis')\n",
    "axs[0, 1].set_title('Scatter of Accident Zones')\n",
    "axs[0, 1].set_ylabel('Longitude')\n",
    "axs[0, 1].set_xlabel('Latitude')\n",
    "\n",
    "points = pd.DataFrame([centers[:, 0], centers[:, 1]]).transpose()"
   ]
  },
  {
   "cell_type": "code",
   "execution_count": 248,
   "metadata": {},
   "outputs": [
    {
     "data": {
      "text/plain": [
       "<matplotlib.collections.PathCollection at 0x1a8eed5a4e0>"
      ]
     },
     "execution_count": 248,
     "metadata": {},
     "output_type": "execute_result"
    },
    {
     "data": {
      "image/png": "[encoded data removed]",
      "text/plain": [
       "<Figure size 1152x720 with 1 Axes>"
      ]
     },
     "metadata": {
      "needs_background": "light"
     },
     "output_type": "display_data"
    }
   ],
   "source": [
    "# points.index.name='cluster_label'\n",
    "# points.reset_index(inplace=True)\n",
    "\n",
    "# result=pd.merge(X,points,\n",
    "#                how='left')\n",
    "plt.figure(figsize=(16, 10))\n",
    "plt.scatter(result['latitude'],result['longitude'],c=result['cluster_label'],cmap='Wistia')\n",
    "plt.scatter(result[0],result[1])\n",
    "plt.scatter(sgd_centres['lat'],sgd_centres['long'],c='black')\n",
    "plt.scatter(sgd_centres_3['lat'],sgd_centres_3['long'],c='green')\n",
    "plt.scatter(sgd_centres_4['lat'],sgd_centres_['long'],c='green')"
   ]
  },
  {
   "cell_type": "code",
   "execution_count": null,
   "metadata": {},
   "outputs": [],
   "source": [
    "df_3hours = df.resample('3H', on='datetime')['idx'].count().reset_index()\n",
    "df_3hours['datetime'] = df_3hours['datetime'].dt.hour\n",
    "\n",
    "df_3hours = df_3hours.groupby('datetime').sum().reset_index()\n",
    "df_pd_3hours = pd.DataFrame(df_3hours)"
   ]
  },
  {
   "cell_type": "code",
   "execution_count": 110,
   "metadata": {},
   "outputs": [
    {
     "data": {
      "text/plain": [
       "(2921, 3)"
      ]
     },
     "execution_count": 110,
     "metadata": {},
     "output_type": "execute_result"
    }
   ],
   "source": [
    "submission = pd.DataFrame({\n",
    "    'date':dates\n",
    "})\n",
    "submission['idx'] = 1\n",
    "submission_3_hrs=submission.resample('3H', on='date')['idx'].count().reset_index()\n",
    "submission_3_hrs['dates'] = submission_3_hrs['date'].dt.hour\n",
    "\n",
    "submission_3_hrs = submission_3_hrs.groupby('date').sum().reset_index()\n",
    "submission_3_hrs_pd = pd.DataFrame(submission_3_hrs)\n",
    "submission_3_hrs_pd.shape"
   ]
  },
  {
   "cell_type": "code",
   "execution_count": 249,
   "metadata": {},
   "outputs": [
    {
     "data": {
      "text/html": [
       "<div>\n",
       "<style scoped>\n",
       "    .dataframe tbody tr th:only-of-type {\n",
       "        vertical-align: middle;\n",
       "    }\n",
       "\n",
       "    .dataframe tbody tr th {\n",
       "        vertical-align: top;\n",
       "    }\n",
       "\n",
       "    .dataframe thead th {\n",
       "        text-align: right;\n",
       "    }\n",
       "</style>\n",
       "<table border=\"1\" class=\"dataframe\">\n",
       "  <thead>\n",
       "    <tr style=\"text-align: right;\">\n",
       "      <th></th>\n",
       "      <th>date</th>\n",
       "      <th>A0_Latitude</th>\n",
       "      <th>A0_Longitude</th>\n",
       "      <th>A1_Latitude</th>\n",
       "      <th>A1_Longitude</th>\n",
       "      <th>A2_Latitude</th>\n",
       "      <th>A2_Longitude</th>\n",
       "      <th>A3_Latitude</th>\n",
       "      <th>A3_Longitude</th>\n",
       "      <th>A4_Latitude</th>\n",
       "      <th>A4_Longitude</th>\n",
       "      <th>A5_Latitude</th>\n",
       "      <th>A5_Longitude</th>\n",
       "    </tr>\n",
       "  </thead>\n",
       "  <tbody>\n",
       "    <tr>\n",
       "      <th>0</th>\n",
       "      <td>2019-01-01 00:00:00</td>\n",
       "      <td>-1.291434</td>\n",
       "      <td>36.81916</td>\n",
       "      <td>-1.253096</td>\n",
       "      <td>36.854958</td>\n",
       "      <td>-1.264477</td>\n",
       "      <td>36.74642</td>\n",
       "      <td>-1.295695</td>\n",
       "      <td>36.881577</td>\n",
       "      <td>-1.331068</td>\n",
       "      <td>36.87455</td>\n",
       "      <td>-1.204327</td>\n",
       "      <td>36.916477</td>\n",
       "    </tr>\n",
       "    <tr>\n",
       "      <th>1</th>\n",
       "      <td>2019-01-01 03:00:00</td>\n",
       "      <td>-1.291434</td>\n",
       "      <td>36.81916</td>\n",
       "      <td>-1.253096</td>\n",
       "      <td>36.854958</td>\n",
       "      <td>-1.264477</td>\n",
       "      <td>36.74642</td>\n",
       "      <td>-1.295695</td>\n",
       "      <td>36.881577</td>\n",
       "      <td>-1.331068</td>\n",
       "      <td>36.87455</td>\n",
       "      <td>-1.204327</td>\n",
       "      <td>36.916477</td>\n",
       "    </tr>\n",
       "    <tr>\n",
       "      <th>2</th>\n",
       "      <td>2019-01-01 06:00:00</td>\n",
       "      <td>-1.291434</td>\n",
       "      <td>36.81916</td>\n",
       "      <td>-1.253096</td>\n",
       "      <td>36.854958</td>\n",
       "      <td>-1.264477</td>\n",
       "      <td>36.74642</td>\n",
       "      <td>-1.295695</td>\n",
       "      <td>36.881577</td>\n",
       "      <td>-1.331068</td>\n",
       "      <td>36.87455</td>\n",
       "      <td>-1.204327</td>\n",
       "      <td>36.916477</td>\n",
       "    </tr>\n",
       "    <tr>\n",
       "      <th>3</th>\n",
       "      <td>2019-01-01 09:00:00</td>\n",
       "      <td>-1.291434</td>\n",
       "      <td>36.81916</td>\n",
       "      <td>-1.253096</td>\n",
       "      <td>36.854958</td>\n",
       "      <td>-1.264477</td>\n",
       "      <td>36.74642</td>\n",
       "      <td>-1.295695</td>\n",
       "      <td>36.881577</td>\n",
       "      <td>-1.331068</td>\n",
       "      <td>36.87455</td>\n",
       "      <td>-1.204327</td>\n",
       "      <td>36.916477</td>\n",
       "    </tr>\n",
       "    <tr>\n",
       "      <th>4</th>\n",
       "      <td>2019-01-01 12:00:00</td>\n",
       "      <td>-1.291434</td>\n",
       "      <td>36.81916</td>\n",
       "      <td>-1.253096</td>\n",
       "      <td>36.854958</td>\n",
       "      <td>-1.264477</td>\n",
       "      <td>36.74642</td>\n",
       "      <td>-1.295695</td>\n",
       "      <td>36.881577</td>\n",
       "      <td>-1.331068</td>\n",
       "      <td>36.87455</td>\n",
       "      <td>-1.204327</td>\n",
       "      <td>36.916477</td>\n",
       "    </tr>\n",
       "  </tbody>\n",
       "</table>\n",
       "</div>"
      ],
      "text/plain": [
       "                 date  A0_Latitude  A0_Longitude  A1_Latitude  A1_Longitude  \\\n",
       "0 2019-01-01 00:00:00    -1.291434      36.81916    -1.253096     36.854958   \n",
       "1 2019-01-01 03:00:00    -1.291434      36.81916    -1.253096     36.854958   \n",
       "2 2019-01-01 06:00:00    -1.291434      36.81916    -1.253096     36.854958   \n",
       "3 2019-01-01 09:00:00    -1.291434      36.81916    -1.253096     36.854958   \n",
       "4 2019-01-01 12:00:00    -1.291434      36.81916    -1.253096     36.854958   \n",
       "\n",
       "   A2_Latitude  A2_Longitude  A3_Latitude  A3_Longitude  A4_Latitude  \\\n",
       "0    -1.264477      36.74642    -1.295695     36.881577    -1.331068   \n",
       "1    -1.264477      36.74642    -1.295695     36.881577    -1.331068   \n",
       "2    -1.264477      36.74642    -1.295695     36.881577    -1.331068   \n",
       "3    -1.264477      36.74642    -1.295695     36.881577    -1.331068   \n",
       "4    -1.264477      36.74642    -1.295695     36.881577    -1.331068   \n",
       "\n",
       "   A4_Longitude  A5_Latitude  A5_Longitude  \n",
       "0      36.87455    -1.204327     36.916477  \n",
       "1      36.87455    -1.204327     36.916477  \n",
       "2      36.87455    -1.204327     36.916477  \n",
       "3      36.87455    -1.204327     36.916477  \n",
       "4      36.87455    -1.204327     36.916477  "
      ]
     },
     "execution_count": 249,
     "metadata": {},
     "output_type": "execute_result"
    }
   ],
   "source": [
    "\n",
    "# Create submission dataframe\n",
    "submission = pd.DataFrame({\n",
    "    'date':dates\n",
    "})\n",
    "\n",
    "for ambulance in range(6):\n",
    "    submission['A'+str(ambulance)+'_Latitude'] = sgd_centres_4.iloc[ambulance][0]\n",
    "    submission['A'+str(ambulance)+'_Longitude'] = sgd_centres_4.iloc[ambulance][1]\n",
    "submission.head()"
   ]
  },
  {
   "cell_type": "code",
   "execution_count": 224,
   "metadata": {},
   "outputs": [
    {
     "data": {
      "text/html": [
       "<div>\n",
       "<style scoped>\n",
       "    .dataframe tbody tr th:only-of-type {\n",
       "        vertical-align: middle;\n",
       "    }\n",
       "\n",
       "    .dataframe tbody tr th {\n",
       "        vertical-align: top;\n",
       "    }\n",
       "\n",
       "    .dataframe thead th {\n",
       "        text-align: right;\n",
       "    }\n",
       "</style>\n",
       "<table border=\"1\" class=\"dataframe\">\n",
       "  <thead>\n",
       "    <tr style=\"text-align: right;\">\n",
       "      <th></th>\n",
       "      <th>date</th>\n",
       "      <th>idx</th>\n",
       "      <th>dates</th>\n",
       "    </tr>\n",
       "  </thead>\n",
       "  <tbody>\n",
       "    <tr>\n",
       "      <th>0</th>\n",
       "      <td>2019-01-01 00:00:00</td>\n",
       "      <td>1</td>\n",
       "      <td>0</td>\n",
       "    </tr>\n",
       "    <tr>\n",
       "      <th>1</th>\n",
       "      <td>2019-01-01 03:00:00</td>\n",
       "      <td>1</td>\n",
       "      <td>3</td>\n",
       "    </tr>\n",
       "    <tr>\n",
       "      <th>2</th>\n",
       "      <td>2019-01-01 06:00:00</td>\n",
       "      <td>1</td>\n",
       "      <td>6</td>\n",
       "    </tr>\n",
       "    <tr>\n",
       "      <th>3</th>\n",
       "      <td>2019-01-01 09:00:00</td>\n",
       "      <td>1</td>\n",
       "      <td>9</td>\n",
       "    </tr>\n",
       "    <tr>\n",
       "      <th>4</th>\n",
       "      <td>2019-01-01 12:00:00</td>\n",
       "      <td>1</td>\n",
       "      <td>12</td>\n",
       "    </tr>\n",
       "  </tbody>\n",
       "</table>\n",
       "</div>"
      ],
      "text/plain": [
       "                 date  idx  dates\n",
       "0 2019-01-01 00:00:00    1      0\n",
       "1 2019-01-01 03:00:00    1      3\n",
       "2 2019-01-01 06:00:00    1      6\n",
       "3 2019-01-01 09:00:00    1      9\n",
       "4 2019-01-01 12:00:00    1     12"
      ]
     },
     "execution_count": 224,
     "metadata": {},
     "output_type": "execute_result"
    }
   ],
   "source": [
    "sub=submission_3_hrs_pd.copy()\n",
    "submission_3_hrs_pd.head()"
   ]
  },
  {
   "cell_type": "code",
   "execution_count": 250,
   "metadata": {},
   "outputs": [
    {
     "data": {
      "text/plain": [
       "103.12131392776514"
      ]
     },
     "execution_count": 250,
     "metadata": {},
     "output_type": "execute_result"
    }
   ],
   "source": [
    "score_ambulance(submission, reference)"
   ]
  },
  {
   "cell_type": "code",
   "execution_count": 251,
   "metadata": {},
   "outputs": [],
   "source": [
    "submission.to_csv('submission_12.csv',index=False)"
   ]
  },
  {
   "cell_type": "code",
   "execution_count": 157,
   "metadata": {},
   "outputs": [
    {
     "data": {
      "text/plain": [
       "array([[-1.02141628, 37.06162761],\n",
       "       [-1.30331185, 36.84114893],\n",
       "       [-2.26993277, 37.38589229],\n",
       "       [-1.23364318, 36.72134521],\n",
       "       [-1.21205756, 36.90660569],\n",
       "       [-1.46577455, 37.07494571]])"
      ]
     },
     "execution_count": 157,
     "metadata": {},
     "output_type": "execute_result"
    }
   ],
   "source": [
    "Clusters[0]"
   ]
  },
  {
   "cell_type": "code",
   "execution_count": 220,
   "metadata": {},
   "outputs": [
    {
     "data": {
      "text/plain": [
       "(2921, 13)"
      ]
     },
     "execution_count": 220,
     "metadata": {},
     "output_type": "execute_result"
    }
   ],
   "source": [
    "sub.shape"
   ]
  },
  {
   "cell_type": "code",
   "execution_count": 259,
   "metadata": {},
   "outputs": [],
   "source": [
    "for i in range(2921):\n",
    "    for ambulance in range(6):\n",
    "        if sub.dates[i]==0:\n",
    "            sub['A'+str(ambulance)+'_Latitude'] = Clusters[4].tolist()[ambulance][0]\n",
    "            sub['A'+str(ambulance)+'_Longitude'] =Clusters[4].tolist()[ambulance][1]\n",
    "        elif sub.dates[i]==3:\n",
    "            sub['A'+str(ambulance)+'_Latitude'] = Clusters[1].tolist()[ambulance][0]\n",
    "            sub['A'+str(ambulance)+'_Longitude'] =Clusters[1].tolist()[ambulance][1]\n",
    "        elif sub.dates[i]==6:\n",
    "            sub['A'+str(ambulance)+'_Latitude'] = Clusters[2].tolist()[ambulance][0]\n",
    "            sub['A'+str(ambulance)+'_Longitude'] =Clusters[2].tolist()[ambulance][1]\n",
    "        elif sub.dates[i]==9:\n",
    "            sub['A'+str(ambulance)+'_Latitude'] = Clusters[3].tolist()[ambulance][0]\n",
    "            sub['A'+str(ambulance)+'_Longitude'] =Clusters[3].tolist()[ambulance][1]\n",
    "        elif sub.dates[i]==12:\n",
    "            sub['A'+str(ambulance)+'_Latitude'] = Clusters[4].tolist()[ambulance][0]\n",
    "            sub['A'+str(ambulance)+'_Longitude'] =Clusters[4].tolist()[ambulance][1]\n",
    "        elif sub.dates[i]==15:\n",
    "            sub['A'+str(ambulance)+'_Latitude'] = Clusters[5].tolist()[ambulance][0]\n",
    "            sub['A'+str(ambulance)+'_Longitude'] =Clusters[5].tolist()[ambulance][1]\n",
    "        elif sub.dates[i]==18:\n",
    "            sub['A'+str(ambulance)+'_Latitude'] = Clusters[6].tolist()[ambulance][0]\n",
    "            sub['A'+str(ambulance)+'_Longitude'] =Clusters[6].tolist()[ambulance][1]\n",
    "        elif sub.dates[i]==21:\n",
    "            sub['A'+str(ambulance)+'_Latitude'] = Clusters[7].tolist()[ambulance][0]\n",
    "            sub['A'+str(ambulance)+'_Longitude'] =Clusters[7].tolist()[ambulance][1]"
   ]
  },
  {
   "cell_type": "code",
   "execution_count": null,
   "metadata": {},
   "outputs": [],
   "source": [
    "score_ambulance(submission, reference)"
   ]
  },
  {
   "cell_type": "code",
   "execution_count": null,
   "metadata": {},
   "outputs": [],
   "source": [
    "sub.drop(['dates','idx'],axis=1,inplace=True)\n",
    "sub.to_csv('submission_5.csv',index=False)"
   ]
  }
 ],
 "metadata": {
  "kernelspec": {
   "display_name": "Python 3",
   "language": "python",
   "name": "python3"
  },
  "language_info": {
   "codemirror_mode": {
    "name": "ipython",
    "version": 3
   },
   "file_extension": ".py",
   "mimetype": "text/x-python",
   "name": "python",
   "nbconvert_exporter": "python",
   "pygments_lexer": "ipython3",
   "version": "3.7.1"
  }
 },
 "nbformat": 4,
 "nbformat_minor": 2
}
